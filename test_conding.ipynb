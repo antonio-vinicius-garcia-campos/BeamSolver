{
  "nbformat": 4,
  "nbformat_minor": 0,
  "metadata": {
    "colab": {
      "name": "test_conding.ipynb",
      "provenance": [],
      "authorship_tag": "ABX9TyNIpvW8lbKoPdeN6cv05An0",
      "include_colab_link": true
    },
    "kernelspec": {
      "name": "python3",
      "display_name": "Python 3"
    },
    "language_info": {
      "name": "python"
    }
  },
  "cells": [
    {
      "cell_type": "markdown",
      "metadata": {
        "id": "view-in-github",
        "colab_type": "text"
      },
      "source": [
        "<a href=\"https://colab.research.google.com/github/antonio-vinicius-garcia-campos/sbspy/blob/main/test_conding.ipynb\" target=\"_parent\"><img src=\"https://colab.research.google.com/assets/colab-badge.svg\" alt=\"Open In Colab\"/></a>"
      ]
    },
    {
      "cell_type": "code",
      "execution_count": null,
      "metadata": {
        "id": "h0HFN88m5hC8"
      },
      "outputs": [],
      "source": [
        "## VIGA BI-APOIADA COM CARGA DISTRIBUIDA\n",
        "import numpy as np\n",
        "import matplotlib.pyplot as plt\n",
        "\n",
        "p0 = 2000\n",
        "L = 8\n",
        "\n",
        "x = np.linspace(0,L,1000)\n",
        "q_x = (-p0*(x)**0)*(x>0)\n",
        "V_x = (-p0*(x)**1)*(x>0) + p0*L/2\n",
        "M_x = ((-p0/2)*(x)**2)*(x>0) + p0*L*x/2\n",
        "\n",
        "print(max(M_x))\n",
        "\n",
        "# outputs, graphics\n",
        "plt.figure()\n",
        "plt.plot(x,V_x,'r')\n",
        "plt.ylabel('Esforco Cortante')\n",
        "plt.xlabel('Comprimento L')\n",
        "plt.grid('on')\n",
        "plt.show()\n",
        "\n",
        "plt.figure()\n",
        "plt.plot(x,M_x,'c')\n",
        "plt.ylabel('Momento Fletor')\n",
        "plt.xlabel('Comprimento L')\n",
        "plt.grid('on')\n",
        "plt.show()"
      ]
    }
  ]
}